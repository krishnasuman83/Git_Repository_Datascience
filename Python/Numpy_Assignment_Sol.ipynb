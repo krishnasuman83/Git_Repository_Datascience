{
 "cells": [
  {
   "cell_type": "code",
   "execution_count": 1,
   "metadata": {},
   "outputs": [],
   "source": [
    "# Write a Python program to print the NumPy version in your system."
   ]
  },
  {
   "cell_type": "code",
   "execution_count": 1,
   "metadata": {},
   "outputs": [
    {
     "name": "stdout",
     "output_type": "stream",
     "text": [
      "1.18.1\n"
     ]
    }
   ],
   "source": [
    "import numpy as np\n",
    "print(np.__version__)"
   ]
  },
  {
   "cell_type": "code",
   "execution_count": 3,
   "metadata": {},
   "outputs": [],
   "source": [
    "# Write a Python program to reverse an array (first element becomes last)"
   ]
  },
  {
   "cell_type": "code",
   "execution_count": 4,
   "metadata": {},
   "outputs": [
    {
     "data": {
      "text/plain": [
       "array([0, 1, 2, 3, 4, 5, 6, 7, 8, 9])"
      ]
     },
     "execution_count": 4,
     "metadata": {},
     "output_type": "execute_result"
    }
   ],
   "source": [
    "arr1=np.arange(0,10)\n",
    "arr1"
   ]
  },
  {
   "cell_type": "code",
   "execution_count": 5,
   "metadata": {},
   "outputs": [
    {
     "data": {
      "text/plain": [
       "array([9, 8, 7, 6, 5, 4, 3, 2, 1, 0])"
      ]
     },
     "execution_count": 5,
     "metadata": {},
     "output_type": "execute_result"
    }
   ],
   "source": [
    "arr1[::-1]"
   ]
  },
  {
   "cell_type": "code",
   "execution_count": 6,
   "metadata": {},
   "outputs": [],
   "source": [
    "# Write a Python program to convert a list and tuple into arrays."
   ]
  },
  {
   "cell_type": "code",
   "execution_count": 7,
   "metadata": {},
   "outputs": [
    {
     "data": {
      "text/plain": [
       "array([1, 2, 3, 4, 5, 6, 7, 8])"
      ]
     },
     "execution_count": 7,
     "metadata": {},
     "output_type": "execute_result"
    }
   ],
   "source": [
    "lst=[1,2,3,4,5,6,7,8]\n",
    "lst_arr=np.asarray(lst)\n",
    "lst_arr"
   ]
  },
  {
   "cell_type": "code",
   "execution_count": 8,
   "metadata": {},
   "outputs": [
    {
     "name": "stdout",
     "output_type": "stream",
     "text": [
      "[10 20 30 40 50]\n"
     ]
    }
   ],
   "source": [
    "tpl=(10,20,30,40,50)\n",
    "tpl_arr=np.asarray(tpl)\n",
    "print(tpl_arr)"
   ]
  },
  {
   "cell_type": "code",
   "execution_count": 9,
   "metadata": {},
   "outputs": [],
   "source": [
    "# Write a Python program to find common values between two arrays."
   ]
  },
  {
   "cell_type": "code",
   "execution_count": 10,
   "metadata": {},
   "outputs": [],
   "source": [
    "arr_1=np.arange(11,20)\n",
    "arr_2=np.array([11,15,18])"
   ]
  },
  {
   "cell_type": "code",
   "execution_count": 11,
   "metadata": {},
   "outputs": [
    {
     "name": "stdout",
     "output_type": "stream",
     "text": [
      "[11 15 18]\n"
     ]
    }
   ],
   "source": [
    "print(np.intersect1d(arr_1,arr_2))"
   ]
  },
  {
   "cell_type": "code",
   "execution_count": 12,
   "metadata": {},
   "outputs": [],
   "source": [
    "# Write a Python program compare two arrays using numpy."
   ]
  },
  {
   "cell_type": "code",
   "execution_count": 13,
   "metadata": {},
   "outputs": [
    {
     "name": "stdout",
     "output_type": "stream",
     "text": [
      "Array arr3: [1 2 3 4]\n",
      "Array arr4: [2 3 5 4]\n",
      "arr3>arr4\n",
      "[False False False False]\n",
      "arr3>=arr4\n",
      "[False False False  True]\n",
      "arr3<arr4\n",
      "[ True  True  True False]\n",
      "arr3<=arr4\n",
      "[ True  True  True  True]\n"
     ]
    }
   ],
   "source": [
    "arr3=np.array((1,2,3,4))\n",
    "print('Array arr3:',arr3)\n",
    "arr4=np.array([2,3,5,4])\n",
    "print('Array arr4:',arr4)\n",
    "print('arr3>arr4')\n",
    "print(np.greater(arr3,arr4))\n",
    "print('arr3>=arr4')\n",
    "print(np.greater_equal(arr3,arr4))\n",
    "print('arr3<arr4')\n",
    "print(np.less(arr3,arr4))\n",
    "print('arr3<=arr4')\n",
    "print(np.less_equal(arr3,arr4))"
   ]
  },
  {
   "cell_type": "code",
   "execution_count": 14,
   "metadata": {},
   "outputs": [],
   "source": [
    "# Write a Python program to change the dimension of an array."
   ]
  },
  {
   "cell_type": "code",
   "execution_count": 15,
   "metadata": {},
   "outputs": [
    {
     "name": "stdout",
     "output_type": "stream",
     "text": [
      "arr_3: [ 1  2  3  4  5  6  7  8  9 10 11 12] Dimension is: 1\n",
      "arr_3: [[ 1  2  3  4]\n",
      " [ 5  6  7  8]\n",
      " [ 9 10 11 12]] Dimension is: 2\n"
     ]
    }
   ],
   "source": [
    "arr_3=np.arange(1,13)\n",
    "print('arr_3:',arr_3,'Dimension is:', arr_3.ndim)\n",
    "arr_3.shape=3,4\n",
    "print('arr_3:',arr_3,'Dimension is:',arr_3.ndim)"
   ]
  },
  {
   "cell_type": "code",
   "execution_count": 16,
   "metadata": {},
   "outputs": [],
   "source": [
    "# Write a Python program (using numpy) to sum of all the multiples of 3 or 5 below 100."
   ]
  },
  {
   "cell_type": "code",
   "execution_count": 18,
   "metadata": {},
   "outputs": [
    {
     "name": "stdout",
     "output_type": "stream",
     "text": [
      "The multiples of 3 or 5 below 100 are: [ 3  5  6  9 10 12 15 18 20 21 24 25 27 30 33 35 36 39 40 42 45 48 50 51\n",
      " 54 55 57 60 63 65 66 69 70 72 75 78 80 81 84 85 87 90 93 95 96 99]\n",
      "\n",
      "Sum is 2318\n"
     ]
    }
   ],
   "source": [
    "a=np.arange(1,100)\n",
    "b=a[(a%3==0)|(a%5==0)]\n",
    "print('The multiples of 3 or 5 below 100 are:', b)\n",
    "print()\n",
    "print ('Sum is',b.sum())"
   ]
  },
  {
   "cell_type": "code",
   "execution_count": 19,
   "metadata": {},
   "outputs": [],
   "source": [
    "# Write a Python program to convert a NumPy array into Python list structure."
   ]
  },
  {
   "cell_type": "code",
   "execution_count": 20,
   "metadata": {},
   "outputs": [
    {
     "name": "stdout",
     "output_type": "stream",
     "text": [
      "Numpy array is\n",
      "[[0 1 2]\n",
      " [3 4 5]\n",
      " [6 7 8]]\n",
      "\n",
      "List structure is\n",
      "[[0, 1, 2], [3, 4, 5], [6, 7, 8]]\n"
     ]
    }
   ],
   "source": [
    "np_arr=np.arange(0,9).reshape(3,3)\n",
    "print('Numpy array is')\n",
    "print(np_arr)\n",
    "print()\n",
    "print('List structure is')\n",
    "print(np_arr.tolist())"
   ]
  },
  {
   "cell_type": "code",
   "execution_count": 21,
   "metadata": {},
   "outputs": [],
   "source": [
    "# Write a Python program to how to add an extra column to a numpy array."
   ]
  },
  {
   "cell_type": "code",
   "execution_count": 3,
   "metadata": {},
   "outputs": [
    {
     "name": "stdout",
     "output_type": "stream",
     "text": [
      "[[ 1  2  3  4]\n",
      " [ 5  6  7  8]\n",
      " [ 9 10 11 12]]\n",
      "\n",
      "[[21]\n",
      " [22]\n",
      " [23]]\n",
      "\n",
      "[[ 1  2  3  4 21]\n",
      " [ 5  6  7  8 22]\n",
      " [ 9 10 11 12 23]]\n"
     ]
    }
   ],
   "source": [
    "arr_p1=np.arange(1,13).reshape(3,4)\n",
    "print(arr_p1)\n",
    "print()\n",
    "arr_p2=np.array([[21],[22],[23]])\n",
    "print(arr_p2)\n",
    "print()\n",
    "arr_new=np.append(arr_p1,arr_p2,axis=1) \n",
    "print(arr_new)\n"
   ]
  },
  {
   "cell_type": "code",
   "execution_count": null,
   "metadata": {},
   "outputs": [],
   "source": [
    "# Write a Python program to check whether the numpy array is empty or not."
   ]
  },
  {
   "cell_type": "code",
   "execution_count": 4,
   "metadata": {},
   "outputs": [
    {
     "data": {
      "text/plain": [
       "4"
      ]
     },
     "execution_count": 4,
     "metadata": {},
     "output_type": "execute_result"
    }
   ],
   "source": [
    "a=np.array([1,2,3,4])\n",
    "a.size"
   ]
  },
  {
   "cell_type": "code",
   "execution_count": 5,
   "metadata": {},
   "outputs": [
    {
     "data": {
      "text/plain": [
       "0"
      ]
     },
     "execution_count": 5,
     "metadata": {},
     "output_type": "execute_result"
    }
   ],
   "source": [
    "b=np.array([])\n",
    "b.size"
   ]
  },
  {
   "cell_type": "code",
   "execution_count": null,
   "metadata": {},
   "outputs": [],
   "source": [
    "# Write a Python program to normalize a 3x3 random matrix."
   ]
  },
  {
   "cell_type": "code",
   "execution_count": 6,
   "metadata": {},
   "outputs": [
    {
     "name": "stdout",
     "output_type": "stream",
     "text": [
      "Random 3X3 matrix is\n",
      "[[0.40399967 0.41496211 0.43043031]\n",
      " [0.21853974 0.96701233 0.22598242]\n",
      " [0.82780068 0.51360745 0.59539964]]\n",
      "\n",
      "Max value is: 0.9670123341000268\n",
      "\n",
      "Min value is: 0.21853974065104687\n",
      "\n",
      "Normalized 3X3 matrix is\n",
      "[[0.24778453 0.26243095 0.2830973 ]\n",
      " [0.         1.         0.00994383]\n",
      " [0.81400568 0.39422647 0.50350527]]\n"
     ]
    }
   ],
   "source": [
    "print('Random 3X3 matrix is')\n",
    "r_arr=np.random.random((3,3))\n",
    "print(r_arr)\n",
    "print()\n",
    "r_max,r_min=r_arr.max(),r_arr.min()\n",
    "print('Max value is:',r_max)\n",
    "print()\n",
    "print('Min value is:',r_min)\n",
    "print()\n",
    "n_arr=(r_arr-r_min)/(r_max-r_min)\n",
    "print('Normalized 3X3 matrix is')\n",
    "print(n_arr)"
   ]
  },
  {
   "cell_type": "code",
   "execution_count": null,
   "metadata": {},
   "outputs": [],
   "source": [
    "# How to swap two rows of an array?"
   ]
  },
  {
   "cell_type": "code",
   "execution_count": 7,
   "metadata": {},
   "outputs": [
    {
     "name": "stdout",
     "output_type": "stream",
     "text": [
      "The array is\n",
      "[[ 1  2  3  4  5]\n",
      " [ 6  7  8  9 10]\n",
      " [11 12 13 14 15]]\n",
      "\n",
      "The swapped array is\n",
      "[[ 6  7  8  9 10]\n",
      " [ 1  2  3  4  5]\n",
      " [11 12 13 14 15]]\n"
     ]
    }
   ],
   "source": [
    "arr5=np.arange(1,16).reshape(3,5)\n",
    "print('The array is')\n",
    "print(arr5)\n",
    "print()\n",
    "arr5[[0,1],:]=arr5[[1,0],:]\n",
    "print('The swapped array is')\n",
    "print(arr5)"
   ]
  },
  {
   "cell_type": "code",
   "execution_count": 48,
   "metadata": {},
   "outputs": [],
   "source": [
    "# Python program to create a random vector of size 10 and sort it."
   ]
  },
  {
   "cell_type": "code",
   "execution_count": 53,
   "metadata": {},
   "outputs": [
    {
     "name": "stdout",
     "output_type": "stream",
     "text": [
      "The random vector of size 10 is\n",
      "[0.29159128 0.26306452 0.39722874 0.12263229 0.69947237 0.40176978\n",
      " 0.30586817 0.86290424 0.01429012 0.89216103]\n",
      "\n",
      "After sort\n",
      "[0.01429012 0.12263229 0.26306452 0.29159128 0.30586817 0.39722874\n",
      " 0.40176978 0.69947237 0.86290424 0.89216103]\n"
     ]
    }
   ],
   "source": [
    "v=np.random.random(10)\n",
    "print('The random vector of size 10 is')\n",
    "print(v)\n",
    "print()\n",
    "v.sort()\n",
    "print('After sort')\n",
    "print(v)\n"
   ]
  },
  {
   "cell_type": "code",
   "execution_count": 54,
   "metadata": {},
   "outputs": [],
   "source": [
    "# Write a Python program to check two random arrays are equal or not."
   ]
  },
  {
   "cell_type": "code",
   "execution_count": 57,
   "metadata": {},
   "outputs": [
    {
     "name": "stdout",
     "output_type": "stream",
     "text": [
      "[2 1 1 2 2]\n",
      "[1 1 2 2 2]\n",
      "\n",
      "False\n"
     ]
    }
   ],
   "source": [
    "a=np.random.randint(1,3,5)\n",
    "print(a)\n",
    "b=np.random.randint(1,3,5)\n",
    "print(b)\n",
    "print()\n",
    "print(np.allclose(a,b))  # gives false if a and b are not equal"
   ]
  },
  {
   "cell_type": "code",
   "execution_count": 59,
   "metadata": {},
   "outputs": [],
   "source": [
    "# Write a Python program to add, subtract, multiply, divide arguments element-wise."
   ]
  },
  {
   "cell_type": "code",
   "execution_count": 62,
   "metadata": {},
   "outputs": [
    {
     "name": "stdout",
     "output_type": "stream",
     "text": [
      "Add\n",
      "12\n",
      "\n",
      "Subtract\n",
      "-4\n",
      "\n",
      "Multiply\n",
      "32\n",
      "\n",
      "Divide\n",
      "0.5\n"
     ]
    }
   ],
   "source": [
    "print('Add')\n",
    "print(np.add(4,8))\n",
    "print()\n",
    "print('Subtract')\n",
    "print(np.subtract(4,8))\n",
    "print()\n",
    "print('Multiply')\n",
    "print(np.multiply(4,8))\n",
    "print()\n",
    "print('Divide')\n",
    "print(np.divide(4,8))\n",
    "\n"
   ]
  },
  {
   "cell_type": "code",
   "execution_count": 63,
   "metadata": {},
   "outputs": [],
   "source": [
    "# Write a Python program to get the dates of yesterday, today and tomorrow"
   ]
  },
  {
   "cell_type": "code",
   "execution_count": 64,
   "metadata": {},
   "outputs": [
    {
     "name": "stdout",
     "output_type": "stream",
     "text": [
      "Today's date 2020-11-26\n",
      "Yesterday's date 2020-11-25\n",
      "Tomorrow's date 2020-11-27\n"
     ]
    }
   ],
   "source": [
    "import datetime\n",
    "today=datetime.date.today()\n",
    "print(\"Today's date\",today)\n",
    "yesterday=today-datetime.timedelta(days=1)\n",
    "print(\"Yesterday's date\",yesterday)\n",
    "tomorrow=today+datetime.timedelta(days=1)\n",
    "print(\"Tomorrow's date\",tomorrow)"
   ]
  }
 ],
 "metadata": {
  "kernelspec": {
   "display_name": "Python 3",
   "language": "python",
   "name": "python3"
  },
  "language_info": {
   "codemirror_mode": {
    "name": "ipython",
    "version": 3
   },
   "file_extension": ".py",
   "mimetype": "text/x-python",
   "name": "python",
   "nbconvert_exporter": "python",
   "pygments_lexer": "ipython3",
   "version": "3.7.6"
  }
 },
 "nbformat": 4,
 "nbformat_minor": 4
}
