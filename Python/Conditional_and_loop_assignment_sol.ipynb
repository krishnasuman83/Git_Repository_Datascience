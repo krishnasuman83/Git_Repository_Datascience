{
 "cells": [
  {
   "cell_type": "markdown",
   "metadata": {
    "id": "wNRNTbrsc53d"
   },
   "source": [
    "# If - elif - else statement"
   ]
  },
  {
   "cell_type": "code",
   "execution_count": null,
   "metadata": {
    "id": "MiPfTnBycxNa"
   },
   "outputs": [],
   "source": [
    "#W. A P. which takes one number from 0 to 9 from the user and prints it in the word. And if the word is not from 0 to 9 then\n",
    "#it should print that number is outside of the range and program should exit.\n",
    "# For exapmple:- \n",
    "# input = 1\n",
    "# output = one\n"
   ]
  },
  {
   "cell_type": "code",
   "execution_count": 14,
   "metadata": {},
   "outputs": [
    {
     "name": "stdout",
     "output_type": "stream",
     "text": [
      "Enter a number from 0 to 9: 10\n",
      "Number is outside of the range\n"
     ]
    }
   ],
   "source": [
    "num=int(input(\"Enter a number from 0 to 9: \"))\n",
    "if num==0:\n",
    "    print(\"Zero\")\n",
    "elif num==1:\n",
    "    print(\"One\")\n",
    "elif num==2:\n",
    "    print(\"Two\")\n",
    "elif num==3:\n",
    "    print(\"Three\")\n",
    "elif num==4:\n",
    "    print(\"Four\")\n",
    "elif num==5:\n",
    "    print(\"Five\")\n",
    "elif num==6:\n",
    "    print(\"Six\")\n",
    "elif num==7:\n",
    "    print(\"Seven\")\n",
    "elif num==8:\n",
    "    print(\"Eight\")\n",
    "elif num==9:\n",
    "    print(\"Nine\")\n",
    "else:\n",
    "    print(\"Number is outside of the range\")"
   ]
  },
  {
   "cell_type": "code",
   "execution_count": 11,
   "metadata": {
    "id": "vEMNOv9zdA39"
   },
   "outputs": [],
   "source": [
    "#W. A P. to implement calculator but the operation to be done and two numbers will be taken as input from user:-\n",
    "#Operation console should show below:-\n",
    "#     Please select any one operation from below:-\n",
    "#         * To add enter 1\n",
    "#         * to subtract enter 2\n",
    "#         * To multiply enter 3\n",
    "#         * To divide enter 4\n",
    "#         * To divide and find quotient enter 5\n",
    "#         * To divide and find remainder enter 6\n",
    "#         * To divide and find num1 to the power of num2 enter 7\n",
    "#         * To Come out of the program enter 8\n",
    "\n",
    "\n",
    "\n"
   ]
  },
  {
   "cell_type": "code",
   "execution_count": 15,
   "metadata": {},
   "outputs": [
    {
     "name": "stdout",
     "output_type": "stream",
     "text": [
      "Enter first number: 1\n",
      "Enter Second number: 2\n",
      "Please select any one operation from below:-\n",
      "        To add enter 1\n",
      "        To subtract enter 2\n",
      "        To multiply enter 3\n",
      "        To divide enter 4\n",
      "        To divide and find quotient enter 5\n",
      "        To divide and find remainder enter 6\n",
      "        To divide and find num1 to the power of num2 enter 7\n",
      "        To Come out of the program enter 8\n",
      "           1\n",
      "Addition :  3\n"
     ]
    }
   ],
   "source": [
    "num_1=eval(input(\"Enter first number: \"))\n",
    "num_2=eval(input(\"Enter Second number: \"))\n",
    "oper=int(input(\"\"\"Please select any one operation from below:-\n",
    "        To add enter 1\n",
    "        To subtract enter 2\n",
    "        To multiply enter 3\n",
    "        To divide enter 4\n",
    "        To divide and find quotient enter 5\n",
    "        To divide and find remainder enter 6\n",
    "        To divide and find num1 to the power of num2 enter 7\n",
    "        To Come out of the program enter 8\n",
    "           \"\"\"))\n",
    "if oper==1:\n",
    "    num_1+num_2\n",
    "    print(\"Addition : \", num_1+num_2)\n",
    "elif oper==2:\n",
    "    num_1-num_2\n",
    "    print(\"Subtraction : \",num_1-num_2 )\n",
    "elif oper==3:\n",
    "    num_1*num_2\n",
    "    print(\"Multiplication : \", num_1*num_2)\n",
    "elif oper==4:\n",
    "    num_1/num_2\n",
    "    print(\"Divison : \",num_1/num_2)\n",
    "elif oper==5:\n",
    "    num_1//num_2\n",
    "    print(\"Quotient : \",num_1//num_2)\n",
    "elif oper==6:\n",
    "    num_1 % num_2\n",
    "    print(\"Remainder : \",num_1 % num_2)\n",
    "elif oper==7:\n",
    "    num_1**num_2\n",
    "    print(\"To the Power of : \",num_1**num_2)\n",
    "elif oper==8:\n",
    "    print(\"Thank You,You are out of the program\")\n",
    "else:\n",
    "    print(\"Not a valid input: Try again \")"
   ]
  },
  {
   "cell_type": "code",
   "execution_count": null,
   "metadata": {
    "id": "1e2gwYLqdC1s"
   },
   "outputs": [],
   "source": [
    "#W A P to check whether a year entered by user is an leap year or not?\n",
    "#Check with below input:-\n",
    "    #leap year:- 2012, 1968, 2004, 1200, 1600,2400\n",
    "    #Non-lear year:- 1971, 2006, 1700,1800,1900\n",
    "    \n"
   ]
  },
  {
   "cell_type": "code",
   "execution_count": 16,
   "metadata": {},
   "outputs": [
    {
     "name": "stdout",
     "output_type": "stream",
     "text": [
      "Enter a year: 1900\n",
      "Not a leap year\n"
     ]
    }
   ],
   "source": [
    "year=int(input(\"Enter a year: \"))\n",
    "if year%4!=0:\n",
    "    print(\"Not a leap year\")\n",
    "else:\n",
    "    if year%100==0:\n",
    "        if year%400==0:\n",
    "            print(\"A leap year\")\n",
    "        else: \n",
    "            print(\"Not a leap year\")     \n",
    "    else:\n",
    "        print(\" A leap year\")"
   ]
  },
  {
   "cell_type": "code",
   "execution_count": null,
   "metadata": {
    "id": "_tpXv1EtdEre"
   },
   "outputs": [],
   "source": [
    "#W A P which takes one number from the user and checks whether it is an even or odd number?, If it even then prints number is \n",
    "#even number else prints that number is odd number.\n",
    "\n"
   ]
  },
  {
   "cell_type": "code",
   "execution_count": 17,
   "metadata": {},
   "outputs": [
    {
     "name": "stdout",
     "output_type": "stream",
     "text": [
      "Enter a number : 8\n",
      "The number is even \n"
     ]
    }
   ],
   "source": [
    "num_u=int(input(\"Enter a number : \"))\n",
    "if num_u%2==0:\n",
    "    print(\"The number is even \")\n",
    "else:\n",
    "    print(\"The number is odd\")"
   ]
  },
  {
   "cell_type": "code",
   "execution_count": null,
   "metadata": {
    "id": "Q1HumymCdG6i"
   },
   "outputs": [],
   "source": [
    "#W A P which takes two numbers from the user and prints below output:-\n",
    "#     1. num1 is greater than num2 if num1 is greater than num2\n",
    "#     2. num1 is smaller than num2 if num1 is smaller than num2\n",
    "#     3. num1 is equal to num2 if num1 and num2 are equal\n",
    "\n",
    "#Note:- 1. Do this problem using if - else \n",
    "#       2. Do this using ternary operator\n",
    "\n"
   ]
  },
  {
   "cell_type": "code",
   "execution_count": 18,
   "metadata": {},
   "outputs": [
    {
     "name": "stdout",
     "output_type": "stream",
     "text": [
      "Enter a number: 5\n",
      "Enter a number: 5\n",
      "num1 is equal to num2\n"
     ]
    }
   ],
   "source": [
    "#Using if - else\n",
    "num1=eval(input(\"Enter a number: \"))\n",
    "num2=eval(input(\"Enter a number: \"))\n",
    "if num1>num2:\n",
    "    print(\"num1 is greater than num2\")\n",
    "elif num1<num2:\n",
    "    print(\"num1 is smaller than num2\")\n",
    "else:\n",
    "    print(\"num1 is equal to num2\")"
   ]
  },
  {
   "cell_type": "code",
   "execution_count": 19,
   "metadata": {},
   "outputs": [
    {
     "name": "stdout",
     "output_type": "stream",
     "text": [
      "Enter a number: 5\n",
      "Enter a number: 5\n",
      "num1 is equal to num2\n"
     ]
    }
   ],
   "source": [
    "# Using Ternary operator\n",
    "num1=eval(input(\"Enter a number: \"))\n",
    "num2=eval(input(\"Enter a number: \"))\n",
    "print(\"num1 is greater than num2\" if num1>num2 else \"num1 is smaller than num2\" if num1<num2  else \"num1 is equal to num2\")"
   ]
  },
  {
   "cell_type": "code",
   "execution_count": null,
   "metadata": {
    "id": "LR6TVB-DdOPf"
   },
   "outputs": [],
   "source": [
    "#W A P which takes three numbers from the user and prints below output:-\n",
    "#     1. num1 is greater than num2 and num3 if num1 is greater than num2 and num3\n",
    "#     2. num2 is greater than num1 and num3 if num2 is greater than num1 and num3\n",
    "#     3. num3 is greater than num1 and num2 if num3 is greater than num1 and num2\n",
    "\n",
    "#Note:- 1. Do this problem using if - elif - else \n",
    "#       2. Do this using ternary operator\n",
    "\n",
    "# a = a if a>b else b\n",
    "\n"
   ]
  },
  {
   "cell_type": "code",
   "execution_count": 20,
   "metadata": {},
   "outputs": [
    {
     "name": "stdout",
     "output_type": "stream",
     "text": [
      "Enter the First number: 10\n",
      "Enter the Second number: 9\n",
      "Enter the Third number: 8\n",
      "num_f is greater than num_s and num_t\n"
     ]
    }
   ],
   "source": [
    "# using if - elif - else\n",
    "num_f=eval(input(\"Enter the First number: \"))\n",
    "num_s=eval(input(\"Enter the Second number: \"))\n",
    "num_t=eval(input(\"Enter the Third number: \"))\n",
    "if num_f>num_s>num_t:\n",
    "    print(\"num_f is greater than num_s and num_t\")\n",
    "elif num_f<num_s>num_t:\n",
    "    print(\"num_s is greater than num_f and num_t\")\n",
    "else: \n",
    "    print(\"num_t is greater than num_f and num_s\")\n",
    "\n",
    "# This program works as long as three different numbers are given"
   ]
  },
  {
   "cell_type": "code",
   "execution_count": 22,
   "metadata": {},
   "outputs": [
    {
     "name": "stdout",
     "output_type": "stream",
     "text": [
      "Enter the First number: 10\n",
      "Enter the Second number: 9\n",
      "Enter the Third number: 8\n",
      "num_f is greater than num_s and num_t\n"
     ]
    }
   ],
   "source": [
    "# Using Ternary operation\n",
    "num_f=eval(input(\"Enter the First number: \"))\n",
    "num_s=eval(input(\"Enter the Second number: \"))\n",
    "num_t=eval(input(\"Enter the Third number: \"))\n",
    "print(\"num_f is greater than num_s and num_t\" if num_f>num_s>num_t else \"num_s is greater than num_f and num_t\" if num_f<num_s>num_t else\"num_t is greater than num_f and num_s\") "
   ]
  },
  {
   "cell_type": "markdown",
   "metadata": {
    "id": "IoOLQMUGdSox"
   },
   "source": [
    "# Loops - for loop, while loop"
   ]
  },
  {
   "cell_type": "code",
   "execution_count": null,
   "metadata": {
    "id": "9K23Uld8dQfA"
   },
   "outputs": [],
   "source": [
    "#Write a Python program to find the length of the my_str using loop:-\n",
    "\n",
    "#Input:- 'Write a Python program to find the length of the my_str'\n",
    "#Output:- 55\n"
   ]
  },
  {
   "cell_type": "code",
   "execution_count": 23,
   "metadata": {},
   "outputs": [
    {
     "name": "stdout",
     "output_type": "stream",
     "text": [
      "The length of the string is: 55\n"
     ]
    }
   ],
   "source": [
    "n=0\n",
    "for i in \"Write a Python program to find the length of the my_str\":\n",
    "    n=n+1\n",
    "print(\"The length of the string is:\", n)"
   ]
  },
  {
   "cell_type": "code",
   "execution_count": null,
   "metadata": {
    "id": "bp6AcqTsdYxy"
   },
   "outputs": [],
   "source": [
    "#Write a Python program to find the total number of times letter 'p' is appeared in the below string using loop:-\n",
    "    \n",
    "#Input:- 'peter piper picked a peck of pickled peppers.\\n'\n",
    "#Output:- 9\n",
    "\n"
   ]
  },
  {
   "cell_type": "code",
   "execution_count": 24,
   "metadata": {},
   "outputs": [
    {
     "name": "stdout",
     "output_type": "stream",
     "text": [
      "9\n"
     ]
    }
   ],
   "source": [
    "m=0\n",
    "for i in 'peter piper picked a peck of pickled peppers.\\n':\n",
    "    if i=='p':\n",
    "        m+=1\n",
    "print(m) "
   ]
  },
  {
   "cell_type": "code",
   "execution_count": null,
   "metadata": {
    "id": "xvxSBhTJdav1"
   },
   "outputs": [],
   "source": [
    "#Write a Python Program, to print all the indexes of all occurences of letter 'p' appeared in the string using loop:-\n",
    "    \n",
    "#Input:- 'peter piper picked a peck of pickled peppers.'\n",
    "#Output:- \n",
    "# 0\n",
    "# 6\n",
    "# 8\n",
    "# 12\n",
    "# 21\n",
    "# 29\n",
    "# 37\n",
    "# 39\n",
    "# 40"
   ]
  },
  {
   "cell_type": "code",
   "execution_count": 25,
   "metadata": {},
   "outputs": [
    {
     "name": "stdout",
     "output_type": "stream",
     "text": [
      "0\n",
      "6\n",
      "8\n",
      "12\n",
      "21\n",
      "29\n",
      "37\n",
      "39\n",
      "40\n"
     ]
    }
   ],
   "source": [
    "inp_string='peter piper picked a peck of pickled peppers.\\n'   \n",
    "for index,char in enumerate(inp_string):\n",
    "    if 'p'==char:\n",
    "        print(index)"
   ]
  },
  {
   "cell_type": "code",
   "execution_count": null,
   "metadata": {
    "id": "79L_feMadbmw"
   },
   "outputs": [],
   "source": [
    "#Write a python program to find below output using loop:-\n",
    "\n",
    "#Input:- 'peter piper picked a peck of pickled peppers.'\n",
    "#Output:- ['peter', 'piper', 'picked', 'a', 'peck', 'of', 'pickled', 'peppers']"
   ]
  },
  {
   "cell_type": "code",
   "execution_count": 27,
   "metadata": {},
   "outputs": [
    {
     "name": "stdout",
     "output_type": "stream",
     "text": [
      "['peter', 'piper', 'picked', 'a', 'peck', 'of', 'pickled', 'peppers']\n"
     ]
    }
   ],
   "source": [
    "inp_string='peter piper picked a peck of pickled peppers'\n",
    "for i in [inp_string.split()]:\n",
    "    print(i)"
   ]
  },
  {
   "cell_type": "code",
   "execution_count": null,
   "metadata": {
    "id": "vzs5AJ53deVS"
   },
   "outputs": [],
   "source": [
    "#Write a python program to find below output using loop:-\n",
    "\n",
    "#Input:- 'peter piper picked a peck of pickled peppers.'\n",
    "#Output:- 'peppers pickled of peck a picked piper peter'\n",
    "\n"
   ]
  },
  {
   "cell_type": "code",
   "execution_count": 29,
   "metadata": {},
   "outputs": [
    {
     "name": "stdout",
     "output_type": "stream",
     "text": [
      "peppers pickled of peck a picked piper peter\n"
     ]
    }
   ],
   "source": [
    "                                \n",
    "inp1_string='peter piper picked a peck of pickled peppers'\n",
    "out_list1=[]\n",
    "for i in inp1_string.split():\n",
    "    out_list1.append(i)\n",
    "out_list1.reverse()\n",
    "req_list1=\" \".join(out_list1)\n",
    "print(req_list1)"
   ]
  },
  {
   "cell_type": "code",
   "execution_count": null,
   "metadata": {
    "id": "i-HP7DrCdhwS"
   },
   "outputs": [],
   "source": [
    "#Write a python program to find below output using loop:-\n",
    "\n",
    "#Input:- 'peter piper picked a peck of pickled peppers.'\n",
    "#Output:- '.sreppep delkcip fo kcep a dekcip repip retep'\n",
    "\n"
   ]
  },
  {
   "cell_type": "code",
   "execution_count": 31,
   "metadata": {},
   "outputs": [
    {
     "name": "stdout",
     "output_type": "stream",
     "text": [
      ". s r e p p e p   d e l k c i p   f o   k c e p   a   d e k c i p   r e p i p   r e t e p "
     ]
    }
   ],
   "source": [
    "new_string='peter piper picked a peck of pickled peppers.'\n",
    "for i in range(len(new_string)-1,-1,-1):\n",
    "    print(new_string[i],end=' ')"
   ]
  },
  {
   "cell_type": "code",
   "execution_count": null,
   "metadata": {
    "id": "3rt6p0ytdkq0"
   },
   "outputs": [],
   "source": [
    "#Write a python program to find below output using loop:-\n",
    "\n",
    "#Input:- 'peter piper picked a peck of pickled peppers.'\n",
    "#Output:- 'retep repip dekcip a kcep fo delkcip sreppep'"
   ]
  },
  {
   "cell_type": "code",
   "execution_count": 32,
   "metadata": {},
   "outputs": [
    {
     "name": "stdout",
     "output_type": "stream",
     "text": [
      "retep repip dekcip a kcep fo delkcip sreppep "
     ]
    }
   ],
   "source": [
    "given_string='peter piper picked a peck of pickled peppers.'\n",
    "mod_string=given_string[0:44]       # to remove the full stop at the end of sentence\n",
    "for i in mod_string.split():\n",
    "    a=i[::-1]\n",
    "    print(a, end=' ')"
   ]
  },
  {
   "cell_type": "code",
   "execution_count": null,
   "metadata": {
    "id": "HdlAWgT2dnKO"
   },
   "outputs": [],
   "source": [
    "#Write a python program to find below output using loop:-\n",
    "\n",
    "#Input:- 'peter piper picked a peck of pickled peppers.'\n",
    "#Output:- 'Peter Piper Picked A Peck Of Pickled Peppers'"
   ]
  },
  {
   "cell_type": "code",
   "execution_count": 33,
   "metadata": {},
   "outputs": [
    {
     "name": "stdout",
     "output_type": "stream",
     "text": [
      "Peter Piper Picked A Peck Of Pickled Peppers "
     ]
    }
   ],
   "source": [
    "given_string='peter piper picked a peck of pickled peppers.'\n",
    "mod_string=given_string[0:44]    # to remove the full stop at the end of sentence\n",
    "for i in mod_string.split():\n",
    "    b=i.capitalize()\n",
    "    print(b,end=' ')"
   ]
  },
  {
   "cell_type": "code",
   "execution_count": null,
   "metadata": {
    "id": "OthUuacodrNl"
   },
   "outputs": [],
   "source": [
    "#Write a python program to find below output using loop:-\n",
    "\n",
    "#Input:- 'Peter Piper Picked A Peck Of Pickled Peppers.'\n",
    "#Output:- 'Peter piper picked a peck of pickled peppers'"
   ]
  },
  {
   "cell_type": "code",
   "execution_count": 34,
   "metadata": {},
   "outputs": [
    {
     "name": "stdout",
     "output_type": "stream",
     "text": [
      "Peter piper picked a peck of pickled peppers.\n"
     ]
    }
   ],
   "source": [
    "out_string=[]\n",
    "my_str = 'Peter Piper Picked A Peck Of Pickled Peppers.'\n",
    "for i in my_str.split():\n",
    "    if i=='Peter':\n",
    "        out_string.append(i)\n",
    "    else:\n",
    "        l=i.lower()\n",
    "        out_string.append(l)\n",
    "out_string=' '.join(out_string)\n",
    "print(out_string)"
   ]
  },
  {
   "cell_type": "code",
   "execution_count": 35,
   "metadata": {
    "colab": {
     "base_uri": "https://localhost:8080/",
     "height": 34
    },
    "id": "scmDJE-ldsI9",
    "outputId": "4b1d1979-9f4a-4bc6-c505-b88b1bbd4d5d"
   },
   "outputs": [],
   "source": [
    "#Write a python program to implement index method using loop. If sub_str is found in my_str then it will print the index\n",
    "# of first occurrence of first character of matching string in my_str:-\n",
    "\n",
    "#Input:- my_str = 'Peter Piper Picked A Peck Of Pickled Peppers.', sub_str = 'Pickl'\n",
    "#Output:- 29\n",
    "\n"
   ]
  },
  {
   "cell_type": "code",
   "execution_count": 36,
   "metadata": {},
   "outputs": [
    {
     "name": "stdout",
     "output_type": "stream",
     "text": [
      "29\n"
     ]
    }
   ],
   "source": [
    "a=0\n",
    "inpu_string='Peter Piper Picked A Peck Of Pickled Peppers.'\n",
    "sub_string = 'Pickl'\n",
    "for i in range(len(inpu_string)):\n",
    "    a=0\n",
    "    for j in range(len(sub_string)):\n",
    "        if inpu_string[i]==sub_string[j]:\n",
    "            i=i+1\n",
    "            a=a + 1\n",
    "            if a==len(sub_string):\n",
    "                i=i-5\n",
    "                print(i)\n",
    "        else:\n",
    "            break"
   ]
  },
  {
   "cell_type": "code",
   "execution_count": null,
   "metadata": {
    "id": "Kq_fwdb_dvYE"
   },
   "outputs": [],
   "source": [
    "#Write a python program to implement replace method using loop. If sub_str is found in my_str then it will replace the first \n",
    "#occurrence of sub_str with new_str else it will will print sub_str not found:-\n",
    "\n",
    "#Input:- my_str = 'Peter Piper Picked A Peck Of Pickled Peppers.', sub_str = 'Peck', new_str = 'Pack'\n",
    "#Output:- 'Peter Piper Picked A Pack Of Pickled Peppers.'\n",
    "\n",
    "\n"
   ]
  },
  {
   "cell_type": "code",
   "execution_count": 37,
   "metadata": {},
   "outputs": [
    {
     "name": "stdout",
     "output_type": "stream",
     "text": [
      "Peter Piper Picked A Pack Of Pickled Peppers.\n"
     ]
    }
   ],
   "source": [
    "out_string=[]\n",
    "my_str = 'Peter Piper Picked A Peck Of Pickled Peppers.'\n",
    "for i in my_str.split():\n",
    "    if i=='Peck':\n",
    "        a='Pack'\n",
    "        out_string.append(a)\n",
    "    else:\n",
    "        out_string.append(i)\n",
    "out_string=' '.join(out_string)\n",
    "print(out_string)"
   ]
  },
  {
   "cell_type": "code",
   "execution_count": null,
   "metadata": {
    "id": "4Qes5D0cdyd1"
   },
   "outputs": [],
   "source": [
    "#Write a python program to find below output (implements rjust and ljust) using loop:-\n",
    "\n",
    "#Input:- 'Peter Piper Picked A Peck Of Pickled Peppers.', sub_str = 'Peck', \n",
    "#Output:- '*********************Peck********************'\n",
    "\n",
    "\n",
    "\n"
   ]
  },
  {
   "cell_type": "code",
   "execution_count": 38,
   "metadata": {},
   "outputs": [
    {
     "name": "stdout",
     "output_type": "stream",
     "text": [
      "*****************Peck*****************\n"
     ]
    }
   ],
   "source": [
    "out_string=[]\n",
    "my_str = 'Peter Piper Picked A Peck Of Pickled Peppers.'\n",
    "for i in my_str.split():\n",
    "    if i=='Peck':\n",
    "        out_string.append(i)\n",
    "    else:\n",
    "        out_string.append('*'*len(i))\n",
    "out_string=''.join(out_string)\n",
    "print(out_string)"
   ]
  },
  {
   "cell_type": "code",
   "execution_count": null,
   "metadata": {
    "id": "DsOrb07Od0lR"
   },
   "outputs": [],
   "source": [
    "#Write a python program to find below output using loop:-\n",
    "\n",
    "#Input:- 'This is Python class', sep = ' is', \n",
    "#Output:- ['This', 'is', 'Python class']\n",
    "\n"
   ]
  },
  {
   "cell_type": "code",
   "execution_count": 39,
   "metadata": {
    "id": "jRnBVufmd2Ay"
   },
   "outputs": [
    {
     "name": "stdout",
     "output_type": "stream",
     "text": [
      "['This', 'is', 'Python class'] "
     ]
    }
   ],
   "source": [
    "in_string='This is Python class'\n",
    "for i in [in_string.split(\" \", 2)]:\n",
    "    print(i,end=' ')\n",
    "\n"
   ]
  },
  {
   "cell_type": "code",
   "execution_count": null,
   "metadata": {},
   "outputs": [],
   "source": []
  }
 ],
 "metadata": {
  "colab": {
   "name": "Conditional_and_loop_assignment.ipynb",
   "provenance": []
  },
  "kernelspec": {
   "display_name": "Python 3",
   "language": "python",
   "name": "python3"
  },
  "language_info": {
   "codemirror_mode": {
    "name": "ipython",
    "version": 3
   },
   "file_extension": ".py",
   "mimetype": "text/x-python",
   "name": "python",
   "nbconvert_exporter": "python",
   "pygments_lexer": "ipython3",
   "version": "3.7.6"
  }
 },
 "nbformat": 4,
 "nbformat_minor": 1
}
